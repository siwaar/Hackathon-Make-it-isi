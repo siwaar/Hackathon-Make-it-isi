{
 "cells": [
  {
   "cell_type": "markdown",
   "metadata": {},
   "source": [
    "# Hackathon data « Make-it-isi» à destination des employeurs publics"
   ]
  },
  {
   "cell_type": "markdown",
   "metadata": {},
   "source": [
    "## Vis'Avenir : Facilitez votre Avenir"
   ]
  },
  {
   "cell_type": "markdown",
   "metadata": {},
   "source": [
    "## 1. Librairies"
   ]
  },
  {
   "cell_type": "code",
   "execution_count": 159,
   "metadata": {},
   "outputs": [
    {
     "name": "stderr",
     "output_type": "stream",
     "text": [
      "[nltk_data] Downloading package stopwords to /Users/siwar/nltk_data...\n",
      "[nltk_data]   Package stopwords is already up-to-date!\n",
      "[nltk_data] Downloading package punkt to /Users/siwar/nltk_data...\n",
      "[nltk_data]   Package punkt is already up-to-date!\n"
     ]
    },
    {
     "data": {
      "text/plain": [
       "True"
      ]
     },
     "execution_count": 159,
     "metadata": {},
     "output_type": "execute_result"
    }
   ],
   "source": [
    "import pandas as pd\n",
    "pd.set_option('max_colwidth',150)\n",
    "\n",
    "import gensim\n",
    "import re\n",
    "\n",
    "\n",
    "import nltk\n",
    "from nltk.tokenize import word_tokenize\n",
    "from nltk.corpus import stopwords\n",
    "nltk.download('stopwords')\n",
    "stop = stopwords.words('french')\n",
    "nltk.download('punkt')"
   ]
  },
  {
   "cell_type": "markdown",
   "metadata": {},
   "source": [
    "## 2. Data"
   ]
  },
  {
   "cell_type": "markdown",
   "metadata": {},
   "source": [
    "### 1er Fichier: répertoir compétences => emploi et compétences correspondants"
   ]
  },
  {
   "cell_type": "code",
   "execution_count": 2,
   "metadata": {},
   "outputs": [],
   "source": [
    "xls = pd.ExcelFile('../data/repertoire_competences.xlsx') \n",
    "df1 = pd.read_excel(xls, 'SAVOIR FAIRE MINISTERE') \n",
    "df2 = pd.read_excel(xls, 'SAVOIR ETRE MINISTERE') "
   ]
  },
  {
   "cell_type": "code",
   "execution_count": 3,
   "metadata": {},
   "outputs": [
    {
     "data": {
      "text/html": [
       "<div>\n",
       "<style scoped>\n",
       "    .dataframe tbody tr th:only-of-type {\n",
       "        vertical-align: middle;\n",
       "    }\n",
       "\n",
       "    .dataframe tbody tr th {\n",
       "        vertical-align: top;\n",
       "    }\n",
       "\n",
       "    .dataframe thead th {\n",
       "        text-align: right;\n",
       "    }\n",
       "</style>\n",
       "<table border=\"1\" class=\"dataframe\">\n",
       "  <thead>\n",
       "    <tr style=\"text-align: right;\">\n",
       "      <th></th>\n",
       "      <th>Ministère</th>\n",
       "      <th>code_emploi</th>\n",
       "      <th>savoir_faire</th>\n",
       "      <th>code_SF</th>\n",
       "      <th>Niveau de mise en œuvre</th>\n",
       "      <th>savoir_faire_DICO</th>\n",
       "    </tr>\n",
       "  </thead>\n",
       "  <tbody>\n",
       "    <tr>\n",
       "      <td>0</td>\n",
       "      <td>CULCOM</td>\n",
       "      <td>EPP01</td>\n",
       "      <td>Mémoriser, synthétiser et exploiter des dossiers complexes</td>\n",
       "      <td>CULCOMSF01</td>\n",
       "      <td>NaN</td>\n",
       "      <td>NaN</td>\n",
       "    </tr>\n",
       "    <tr>\n",
       "      <td>1</td>\n",
       "      <td>CULCOM</td>\n",
       "      <td>EPP01</td>\n",
       "      <td>Concevoir et proposer des solutions innovantes et durables ainsi que les préalables à leur mise en œuvre</td>\n",
       "      <td>CULCOMSF02</td>\n",
       "      <td>NaN</td>\n",
       "      <td>NaN</td>\n",
       "    </tr>\n",
       "    <tr>\n",
       "      <td>2</td>\n",
       "      <td>CULCOM</td>\n",
       "      <td>EPP01</td>\n",
       "      <td>Discerner les enjeux, anticiper et prendre des initiatives dans des domaines sensibles et dans l’urgence</td>\n",
       "      <td>CULCOMSF03</td>\n",
       "      <td>NaN</td>\n",
       "      <td>NaN</td>\n",
       "    </tr>\n",
       "    <tr>\n",
       "      <td>3</td>\n",
       "      <td>CULCOM</td>\n",
       "      <td>EPP01</td>\n",
       "      <td>Prendre des responsabilités</td>\n",
       "      <td>CULCOMSF04</td>\n",
       "      <td>NaN</td>\n",
       "      <td>NaN</td>\n",
       "    </tr>\n",
       "    <tr>\n",
       "      <td>4</td>\n",
       "      <td>CULCOM</td>\n",
       "      <td>EPP01</td>\n",
       "      <td>Faire preuve de discrétion, d’indépendance d’esprit et de jugement</td>\n",
       "      <td>CULCOMSF05</td>\n",
       "      <td>NaN</td>\n",
       "      <td>NaN</td>\n",
       "    </tr>\n",
       "  </tbody>\n",
       "</table>\n",
       "</div>"
      ],
      "text/plain": [
       "  Ministère code_emploi  \\\n",
       "0    CULCOM       EPP01   \n",
       "1    CULCOM       EPP01   \n",
       "2    CULCOM       EPP01   \n",
       "3    CULCOM       EPP01   \n",
       "4    CULCOM       EPP01   \n",
       "\n",
       "                                                                                               savoir_faire  \\\n",
       "0                                                Mémoriser, synthétiser et exploiter des dossiers complexes   \n",
       "1  Concevoir et proposer des solutions innovantes et durables ainsi que les préalables à leur mise en œuvre   \n",
       "2  Discerner les enjeux, anticiper et prendre des initiatives dans des domaines sensibles et dans l’urgence   \n",
       "3                                                                               Prendre des responsabilités   \n",
       "4                                        Faire preuve de discrétion, d’indépendance d’esprit et de jugement   \n",
       "\n",
       "      code_SF Niveau de mise en œuvre  savoir_faire_DICO  \n",
       "0  CULCOMSF01                     NaN                NaN  \n",
       "1  CULCOMSF02                     NaN                NaN  \n",
       "2  CULCOMSF03                     NaN                NaN  \n",
       "3  CULCOMSF04                     NaN                NaN  \n",
       "4  CULCOMSF05                     NaN                NaN  "
      ]
     },
     "execution_count": 3,
     "metadata": {},
     "output_type": "execute_result"
    }
   ],
   "source": [
    "df1.head()"
   ]
  },
  {
   "cell_type": "code",
   "execution_count": 4,
   "metadata": {},
   "outputs": [
    {
     "data": {
      "text/html": [
       "<div>\n",
       "<style scoped>\n",
       "    .dataframe tbody tr th:only-of-type {\n",
       "        vertical-align: middle;\n",
       "    }\n",
       "\n",
       "    .dataframe tbody tr th {\n",
       "        vertical-align: top;\n",
       "    }\n",
       "\n",
       "    .dataframe thead th {\n",
       "        text-align: right;\n",
       "    }\n",
       "</style>\n",
       "<table border=\"1\" class=\"dataframe\">\n",
       "  <thead>\n",
       "    <tr style=\"text-align: right;\">\n",
       "      <th></th>\n",
       "      <th>Ministère</th>\n",
       "      <th>code_emploi</th>\n",
       "      <th>savoir_etre</th>\n",
       "      <th>Code_SE</th>\n",
       "    </tr>\n",
       "  </thead>\n",
       "  <tbody>\n",
       "    <tr>\n",
       "      <td>0</td>\n",
       "      <td>CULCOM</td>\n",
       "      <td>EPP01</td>\n",
       "      <td>Être rigoureux</td>\n",
       "      <td>CULCOMSE01</td>\n",
       "    </tr>\n",
       "    <tr>\n",
       "      <td>1</td>\n",
       "      <td>CULCOM</td>\n",
       "      <td>EPP01</td>\n",
       "      <td>Sens des relations humaines</td>\n",
       "      <td>CULCOMSE02</td>\n",
       "    </tr>\n",
       "    <tr>\n",
       "      <td>2</td>\n",
       "      <td>CULCOM</td>\n",
       "      <td>EPP01</td>\n",
       "      <td>Avoir l’esprit d’équipe</td>\n",
       "      <td>CULCOMSE03</td>\n",
       "    </tr>\n",
       "    <tr>\n",
       "      <td>3</td>\n",
       "      <td>CULCOM</td>\n",
       "      <td>EPP01</td>\n",
       "      <td>Être à l’écoute</td>\n",
       "      <td>CULCOMSE04</td>\n",
       "    </tr>\n",
       "    <tr>\n",
       "      <td>4</td>\n",
       "      <td>CULCOM</td>\n",
       "      <td>EPP01</td>\n",
       "      <td>Faire preuve de diplomatie</td>\n",
       "      <td>CULCOMSE05</td>\n",
       "    </tr>\n",
       "  </tbody>\n",
       "</table>\n",
       "</div>"
      ],
      "text/plain": [
       "  Ministère code_emploi                  savoir_etre     Code_SE\n",
       "0    CULCOM       EPP01               Être rigoureux  CULCOMSE01\n",
       "1    CULCOM       EPP01  Sens des relations humaines  CULCOMSE02\n",
       "2    CULCOM       EPP01      Avoir l’esprit d’équipe  CULCOMSE03\n",
       "3    CULCOM       EPP01              Être à l’écoute  CULCOMSE04\n",
       "4    CULCOM       EPP01   Faire preuve de diplomatie  CULCOMSE05"
      ]
     },
     "execution_count": 4,
     "metadata": {},
     "output_type": "execute_result"
    }
   ],
   "source": [
    "df2.head()"
   ]
  },
  {
   "cell_type": "code",
   "execution_count": 5,
   "metadata": {},
   "outputs": [
    {
     "data": {
      "text/plain": [
       "Ministère        12\n",
       "code_emploi    1185\n",
       "savoir_etre     566\n",
       "Code_SE         637\n",
       "dtype: int64"
      ]
     },
     "execution_count": 5,
     "metadata": {},
     "output_type": "execute_result"
    }
   ],
   "source": [
    "df2.nunique()"
   ]
  },
  {
   "cell_type": "code",
   "execution_count": 6,
   "metadata": {},
   "outputs": [
    {
     "data": {
      "text/plain": [
       "(7400, 4)"
      ]
     },
     "execution_count": 6,
     "metadata": {},
     "output_type": "execute_result"
    }
   ],
   "source": [
    "df2.shape"
   ]
  },
  {
   "cell_type": "code",
   "execution_count": 7,
   "metadata": {
    "scrolled": true
   },
   "outputs": [],
   "source": [
    "df1 = df1[[\"Ministère\",\"code_emploi\",\"savoir_faire\",\"code_SF\"]]\n",
    "df2 = df2[[\"Ministère\",\"code_emploi\",\"savoir_etre\",\"Code_SE\"]]\n",
    "\n",
    "df1 = df1.groupby(['code_emploi', 'Ministère'])[\"savoir_faire\"].apply(lambda x: ','.join(x.astype(str))).reset_index()\n",
    "df2 = df2.groupby(['code_emploi','Ministère'])[\"savoir_etre\"].apply(lambda x: ','.join(x.astype(str))).reset_index()"
   ]
  },
  {
   "cell_type": "code",
   "execution_count": 8,
   "metadata": {
    "scrolled": true
   },
   "outputs": [
    {
     "data": {
      "text/html": [
       "<div>\n",
       "<style scoped>\n",
       "    .dataframe tbody tr th:only-of-type {\n",
       "        vertical-align: middle;\n",
       "    }\n",
       "\n",
       "    .dataframe tbody tr th {\n",
       "        vertical-align: top;\n",
       "    }\n",
       "\n",
       "    .dataframe thead th {\n",
       "        text-align: right;\n",
       "    }\n",
       "</style>\n",
       "<table border=\"1\" class=\"dataframe\">\n",
       "  <thead>\n",
       "    <tr style=\"text-align: right;\">\n",
       "      <th></th>\n",
       "      <th>code_emploi</th>\n",
       "      <th>Ministère</th>\n",
       "      <th>savoir_etre</th>\n",
       "    </tr>\n",
       "  </thead>\n",
       "  <tbody>\n",
       "    <tr>\n",
       "      <td>0</td>\n",
       "      <td>1</td>\n",
       "      <td>PJJ</td>\n",
       "      <td>Sens de l'analyse,Esprit de synthèse,Etre rigoureux,Curiosité intellectuelle,Sens des relations humaines,Etre à l'écoute,Capacité d'adaptation,Maî...</td>\n",
       "    </tr>\n",
       "    <tr>\n",
       "      <td>1</td>\n",
       "      <td>2</td>\n",
       "      <td>PJJ</td>\n",
       "      <td>Sens de l'analyse,Esprit de synthèse,Sens de l'innovation,Etre rigoureux,Faire preuve de diplomatie,Faire preuve d'autorité,Capacité d'adaptation,...</td>\n",
       "    </tr>\n",
       "    <tr>\n",
       "      <td>2</td>\n",
       "      <td>3</td>\n",
       "      <td>PJJ</td>\n",
       "      <td>Sens de l'analyse,Esprit de synthèse,Etre rigoureux,Sens de l'initiative,Sens des relations humaines,Faire preuve de diplomatie,Faire preuve d'aut...</td>\n",
       "    </tr>\n",
       "    <tr>\n",
       "      <td>3</td>\n",
       "      <td>4</td>\n",
       "      <td>PJJ</td>\n",
       "      <td>Esprit de synthèse,Etre autonome,Sens de l’initiative,Etre persévérant,Sens des relations humaines,Etre à l'écoute,Faire preuve d’autorité,Capacit...</td>\n",
       "    </tr>\n",
       "    <tr>\n",
       "      <td>4</td>\n",
       "      <td>5</td>\n",
       "      <td>PJJ</td>\n",
       "      <td>Esprit de synthèse,Sens de l'innovation,Etre autonome,Sens de l'initiative,Sens des relations humaines,Sens de la pédagogie,Sens de l'organisation</td>\n",
       "    </tr>\n",
       "  </tbody>\n",
       "</table>\n",
       "</div>"
      ],
      "text/plain": [
       "  code_emploi Ministère  \\\n",
       "0           1       PJJ   \n",
       "1           2       PJJ   \n",
       "2           3       PJJ   \n",
       "3           4       PJJ   \n",
       "4           5       PJJ   \n",
       "\n",
       "                                                                                                                                             savoir_etre  \n",
       "0  Sens de l'analyse,Esprit de synthèse,Etre rigoureux,Curiosité intellectuelle,Sens des relations humaines,Etre à l'écoute,Capacité d'adaptation,Maî...  \n",
       "1  Sens de l'analyse,Esprit de synthèse,Sens de l'innovation,Etre rigoureux,Faire preuve de diplomatie,Faire preuve d'autorité,Capacité d'adaptation,...  \n",
       "2  Sens de l'analyse,Esprit de synthèse,Etre rigoureux,Sens de l'initiative,Sens des relations humaines,Faire preuve de diplomatie,Faire preuve d'aut...  \n",
       "3  Esprit de synthèse,Etre autonome,Sens de l’initiative,Etre persévérant,Sens des relations humaines,Etre à l'écoute,Faire preuve d’autorité,Capacit...  \n",
       "4     Esprit de synthèse,Sens de l'innovation,Etre autonome,Sens de l'initiative,Sens des relations humaines,Sens de la pédagogie,Sens de l'organisation  "
      ]
     },
     "execution_count": 8,
     "metadata": {},
     "output_type": "execute_result"
    }
   ],
   "source": [
    "df2.head()"
   ]
  },
  {
   "cell_type": "code",
   "execution_count": 9,
   "metadata": {},
   "outputs": [
    {
     "data": {
      "text/plain": [
       "(1363, 3)"
      ]
     },
     "execution_count": 9,
     "metadata": {},
     "output_type": "execute_result"
    }
   ],
   "source": [
    "df2.shape"
   ]
  },
  {
   "cell_type": "code",
   "execution_count": 10,
   "metadata": {},
   "outputs": [
    {
     "data": {
      "text/plain": [
       "code_emploi    1185\n",
       "Ministère        12\n",
       "savoir_etre     965\n",
       "dtype: int64"
      ]
     },
     "execution_count": 10,
     "metadata": {},
     "output_type": "execute_result"
    }
   ],
   "source": [
    "df2.nunique()"
   ]
  },
  {
   "cell_type": "code",
   "execution_count": 11,
   "metadata": {},
   "outputs": [
    {
     "data": {
      "text/html": [
       "<div>\n",
       "<style scoped>\n",
       "    .dataframe tbody tr th:only-of-type {\n",
       "        vertical-align: middle;\n",
       "    }\n",
       "\n",
       "    .dataframe tbody tr th {\n",
       "        vertical-align: top;\n",
       "    }\n",
       "\n",
       "    .dataframe thead th {\n",
       "        text-align: right;\n",
       "    }\n",
       "</style>\n",
       "<table border=\"1\" class=\"dataframe\">\n",
       "  <thead>\n",
       "    <tr style=\"text-align: right;\">\n",
       "      <th></th>\n",
       "      <th>code_emploi</th>\n",
       "      <th>Ministère</th>\n",
       "      <th>savoir_faire</th>\n",
       "      <th>savoir_etre</th>\n",
       "    </tr>\n",
       "  </thead>\n",
       "  <tbody>\n",
       "    <tr>\n",
       "      <td>0</td>\n",
       "      <td>1</td>\n",
       "      <td>PJJ</td>\n",
       "      <td>Diagnostiquer (Contribution à la programmation stratégique nationale),Concevoir un projet, une démarche (Contribution à la programmation stratégiq...</td>\n",
       "      <td>Sens de l'analyse,Esprit de synthèse,Etre rigoureux,Curiosité intellectuelle,Sens des relations humaines,Etre à l'écoute,Capacité d'adaptation,Maî...</td>\n",
       "    </tr>\n",
       "    <tr>\n",
       "      <td>1</td>\n",
       "      <td>2</td>\n",
       "      <td>PJJ</td>\n",
       "      <td>Concevoir un projet (Conduite de la politique territoriale),Analyser un projet (Conduite de la politique territoriale),Anticiper (Conduite de la p...</td>\n",
       "      <td>Sens de l'analyse,Esprit de synthèse,Sens de l'innovation,Etre rigoureux,Faire preuve de diplomatie,Faire preuve d'autorité,Capacité d'adaptation,...</td>\n",
       "    </tr>\n",
       "    <tr>\n",
       "      <td>2</td>\n",
       "      <td>3</td>\n",
       "      <td>PJJ</td>\n",
       "      <td>Travailler en équipe (Pilotage et contrôle de l'activité de son établissement ou service),Utiliser les outils de pilotage (Pilotage et contrôle de...</td>\n",
       "      <td>Sens de l'analyse,Esprit de synthèse,Etre rigoureux,Sens de l'initiative,Sens des relations humaines,Faire preuve de diplomatie,Faire preuve d'aut...</td>\n",
       "    </tr>\n",
       "    <tr>\n",
       "      <td>3</td>\n",
       "      <td>4</td>\n",
       "      <td>PJJ</td>\n",
       "      <td>Travailler en mode projet (Organisation du cadre d’intervention pédagogique de l’unité),Elaborer une méthode (Organisation du cadre d’intervention...</td>\n",
       "      <td>Esprit de synthèse,Etre autonome,Sens de l’initiative,Etre persévérant,Sens des relations humaines,Etre à l'écoute,Faire preuve d’autorité,Capacit...</td>\n",
       "    </tr>\n",
       "    <tr>\n",
       "      <td>4</td>\n",
       "      <td>5</td>\n",
       "      <td>PJJ</td>\n",
       "      <td>Communiquer (Contribution à l'élaboration de la politique interrégionale),Elaborer (Contribution à l'élaboration de la politique interrégionale),E...</td>\n",
       "      <td>Esprit de synthèse,Sens de l'innovation,Etre autonome,Sens de l'initiative,Sens des relations humaines,Sens de la pédagogie,Sens de l'organisation</td>\n",
       "    </tr>\n",
       "  </tbody>\n",
       "</table>\n",
       "</div>"
      ],
      "text/plain": [
       "  code_emploi Ministère  \\\n",
       "0           1       PJJ   \n",
       "1           2       PJJ   \n",
       "2           3       PJJ   \n",
       "3           4       PJJ   \n",
       "4           5       PJJ   \n",
       "\n",
       "                                                                                                                                            savoir_faire  \\\n",
       "0  Diagnostiquer (Contribution à la programmation stratégique nationale),Concevoir un projet, une démarche (Contribution à la programmation stratégiq...   \n",
       "1  Concevoir un projet (Conduite de la politique territoriale),Analyser un projet (Conduite de la politique territoriale),Anticiper (Conduite de la p...   \n",
       "2  Travailler en équipe (Pilotage et contrôle de l'activité de son établissement ou service),Utiliser les outils de pilotage (Pilotage et contrôle de...   \n",
       "3  Travailler en mode projet (Organisation du cadre d’intervention pédagogique de l’unité),Elaborer une méthode (Organisation du cadre d’intervention...   \n",
       "4  Communiquer (Contribution à l'élaboration de la politique interrégionale),Elaborer (Contribution à l'élaboration de la politique interrégionale),E...   \n",
       "\n",
       "                                                                                                                                             savoir_etre  \n",
       "0  Sens de l'analyse,Esprit de synthèse,Etre rigoureux,Curiosité intellectuelle,Sens des relations humaines,Etre à l'écoute,Capacité d'adaptation,Maî...  \n",
       "1  Sens de l'analyse,Esprit de synthèse,Sens de l'innovation,Etre rigoureux,Faire preuve de diplomatie,Faire preuve d'autorité,Capacité d'adaptation,...  \n",
       "2  Sens de l'analyse,Esprit de synthèse,Etre rigoureux,Sens de l'initiative,Sens des relations humaines,Faire preuve de diplomatie,Faire preuve d'aut...  \n",
       "3  Esprit de synthèse,Etre autonome,Sens de l’initiative,Etre persévérant,Sens des relations humaines,Etre à l'écoute,Faire preuve d’autorité,Capacit...  \n",
       "4     Esprit de synthèse,Sens de l'innovation,Etre autonome,Sens de l'initiative,Sens des relations humaines,Sens de la pédagogie,Sens de l'organisation  "
      ]
     },
     "execution_count": 11,
     "metadata": {},
     "output_type": "execute_result"
    }
   ],
   "source": [
    "df_merged1 = pd.merge(df1, df2, on=['code_emploi', 'Ministère'], how='inner')\n",
    "df_merged1.head()"
   ]
  },
  {
   "cell_type": "code",
   "execution_count": 12,
   "metadata": {},
   "outputs": [
    {
     "data": {
      "text/plain": [
       "(1357, 4)"
      ]
     },
     "execution_count": 12,
     "metadata": {},
     "output_type": "execute_result"
    }
   ],
   "source": [
    "df_merged1.shape"
   ]
  },
  {
   "cell_type": "code",
   "execution_count": 13,
   "metadata": {},
   "outputs": [
    {
     "data": {
      "text/plain": [
       "code_emploi     1179\n",
       "Ministère         12\n",
       "savoir_faire    1121\n",
       "savoir_etre      961\n",
       "dtype: int64"
      ]
     },
     "execution_count": 13,
     "metadata": {},
     "output_type": "execute_result"
    }
   ],
   "source": [
    "df_merged1.nunique()"
   ]
  },
  {
   "cell_type": "markdown",
   "metadata": {},
   "source": [
    "### 2eme Fichier: Filière métier + Emplois types"
   ]
  },
  {
   "cell_type": "code",
   "execution_count": 14,
   "metadata": {},
   "outputs": [],
   "source": [
    "xls2 = pd.ExcelFile('../data/REFERENTIEL EMPLOI POUR HACKATHON/repertoire_metiers.xlsx') \n",
    "df12 = pd.read_excel(xls2, 'LIB_RIME') \n",
    "df22 = pd.read_excel(xls2, 'lien metiers MINIST RIME') "
   ]
  },
  {
   "cell_type": "code",
   "execution_count": 15,
   "metadata": {
    "scrolled": true
   },
   "outputs": [
    {
     "data": {
      "text/html": [
       "<div>\n",
       "<style scoped>\n",
       "    .dataframe tbody tr th:only-of-type {\n",
       "        vertical-align: middle;\n",
       "    }\n",
       "\n",
       "    .dataframe tbody tr th {\n",
       "        vertical-align: top;\n",
       "    }\n",
       "\n",
       "    .dataframe thead th {\n",
       "        text-align: right;\n",
       "    }\n",
       "</style>\n",
       "<table border=\"1\" class=\"dataframe\">\n",
       "  <thead>\n",
       "    <tr style=\"text-align: right;\">\n",
       "      <th></th>\n",
       "      <th>CODE_RIME2017</th>\n",
       "      <th>nouveau_domaine_fonctionnel</th>\n",
       "      <th>nouveau_lib_emploi</th>\n",
       "      <th>def_synthetique</th>\n",
       "      <th>nouveau_code_emploi</th>\n",
       "    </tr>\n",
       "  </thead>\n",
       "  <tbody>\n",
       "    <tr>\n",
       "      <td>0</td>\n",
       "      <td>FP2ACH03</td>\n",
       "      <td>ACHAT</td>\n",
       "      <td>CONSEILLERE/CONSEILLER EN INGENIERIE D’ACHAT</td>\n",
       "      <td>Conseiller et apporter son expertise aux acteurs de la chaîne achat en vue d’optimiser l’achat public et de contribuer à sa performance.</td>\n",
       "      <td>FP2ACH03</td>\n",
       "    </tr>\n",
       "    <tr>\n",
       "      <td>1</td>\n",
       "      <td>FP2ACH01</td>\n",
       "      <td>ACHAT</td>\n",
       "      <td>RESPONSABLE ACHAT</td>\n",
       "      <td>Piloter et mettre en œuvre la politique d’achat au sein de son entité, selon les objectifs de performance assignés par l’État et définir les strat...</td>\n",
       "      <td>FP2ACH01</td>\n",
       "    </tr>\n",
       "    <tr>\n",
       "      <td>2</td>\n",
       "      <td>FP2ACH02</td>\n",
       "      <td>ACHAT</td>\n",
       "      <td>ACHETEUSE/ACHETEUR</td>\n",
       "      <td>Procéder aux achats de toute nature en vue de satisfaire les besoins qualitatifs et quantitatifs des services et contribuer à la performance des a...</td>\n",
       "      <td>FP2ACH02</td>\n",
       "    </tr>\n",
       "    <tr>\n",
       "      <td>3</td>\n",
       "      <td>FP2ACH04</td>\n",
       "      <td>ACHAT</td>\n",
       "      <td>REDACTRICE/REDACTEUR DE LA COMMANDE PUBLIQUE</td>\n",
       "      <td>Mettre en œuvre les procédures relatives aux marchés publics pour répondre à un projet d'achat et conseiller les acheteurs sur les risques et/ou b...</td>\n",
       "      <td>FP2ACH04</td>\n",
       "    </tr>\n",
       "    <tr>\n",
       "      <td>4</td>\n",
       "      <td>FP2ACH05</td>\n",
       "      <td>ACHAT</td>\n",
       "      <td>APPROVISIONNEUSE/APPROVISIONNEUR- ACHATS</td>\n",
       "      <td>Assurer et gérer l'approvisionnement en biens et services dans le cadre de l’exécution des marchés et des politiques d’achat.</td>\n",
       "      <td>FP2ACH05</td>\n",
       "    </tr>\n",
       "  </tbody>\n",
       "</table>\n",
       "</div>"
      ],
      "text/plain": [
       "  CODE_RIME2017 nouveau_domaine_fonctionnel  \\\n",
       "0      FP2ACH03                       ACHAT   \n",
       "1      FP2ACH01                       ACHAT   \n",
       "2      FP2ACH02                       ACHAT   \n",
       "3      FP2ACH04                       ACHAT   \n",
       "4      FP2ACH05                       ACHAT   \n",
       "\n",
       "                             nouveau_lib_emploi  \\\n",
       "0  CONSEILLERE/CONSEILLER EN INGENIERIE D’ACHAT   \n",
       "1                             RESPONSABLE ACHAT   \n",
       "2                           ACHETEUSE/ACHETEUR    \n",
       "3  REDACTRICE/REDACTEUR DE LA COMMANDE PUBLIQUE   \n",
       "4     APPROVISIONNEUSE/APPROVISIONNEUR- ACHATS    \n",
       "\n",
       "                                                                                                                                         def_synthetique  \\\n",
       "0               Conseiller et apporter son expertise aux acteurs de la chaîne achat en vue d’optimiser l’achat public et de contribuer à sa performance.   \n",
       "1  Piloter et mettre en œuvre la politique d’achat au sein de son entité, selon les objectifs de performance assignés par l’État et définir les strat...   \n",
       "2  Procéder aux achats de toute nature en vue de satisfaire les besoins qualitatifs et quantitatifs des services et contribuer à la performance des a...   \n",
       "3  Mettre en œuvre les procédures relatives aux marchés publics pour répondre à un projet d'achat et conseiller les acheteurs sur les risques et/ou b...   \n",
       "4                         Assurer et gérer l'approvisionnement en biens et services dans le cadre de l’exécution des marchés et des politiques d’achat.    \n",
       "\n",
       "  nouveau_code_emploi  \n",
       "0            FP2ACH03  \n",
       "1            FP2ACH01  \n",
       "2            FP2ACH02  \n",
       "3            FP2ACH04  \n",
       "4            FP2ACH05  "
      ]
     },
     "execution_count": 15,
     "metadata": {},
     "output_type": "execute_result"
    }
   ],
   "source": [
    "df12.head()"
   ]
  },
  {
   "cell_type": "code",
   "execution_count": 16,
   "metadata": {},
   "outputs": [
    {
     "data": {
      "text/html": [
       "<div>\n",
       "<style scoped>\n",
       "    .dataframe tbody tr th:only-of-type {\n",
       "        vertical-align: middle;\n",
       "    }\n",
       "\n",
       "    .dataframe tbody tr th {\n",
       "        vertical-align: top;\n",
       "    }\n",
       "\n",
       "    .dataframe thead th {\n",
       "        text-align: right;\n",
       "    }\n",
       "</style>\n",
       "<table border=\"1\" class=\"dataframe\">\n",
       "  <thead>\n",
       "    <tr style=\"text-align: right;\">\n",
       "      <th></th>\n",
       "      <th>MINISTERE</th>\n",
       "      <th>Code</th>\n",
       "      <th>Filière métier</th>\n",
       "      <th>RIME2017</th>\n",
       "    </tr>\n",
       "  </thead>\n",
       "  <tbody>\n",
       "    <tr>\n",
       "      <td>0</td>\n",
       "      <td>CULCOM</td>\n",
       "      <td>ADM01</td>\n",
       "      <td>Affaires générales</td>\n",
       "      <td>FP2ADM01</td>\n",
       "    </tr>\n",
       "    <tr>\n",
       "      <td>1</td>\n",
       "      <td>CULCOM</td>\n",
       "      <td>ADM02</td>\n",
       "      <td>Affaires générales</td>\n",
       "      <td>FP2ADM04</td>\n",
       "    </tr>\n",
       "    <tr>\n",
       "      <td>2</td>\n",
       "      <td>CULCOM</td>\n",
       "      <td>ADM03</td>\n",
       "      <td>Affaires générales</td>\n",
       "      <td>FP2ADM05</td>\n",
       "    </tr>\n",
       "    <tr>\n",
       "      <td>3</td>\n",
       "      <td>CULCOM</td>\n",
       "      <td>ADM04A</td>\n",
       "      <td>Affaires générales</td>\n",
       "      <td>FP2ADM03</td>\n",
       "    </tr>\n",
       "    <tr>\n",
       "      <td>4</td>\n",
       "      <td>CULCOM</td>\n",
       "      <td>ADM04B</td>\n",
       "      <td>Affaires générales</td>\n",
       "      <td>FP2ADM03</td>\n",
       "    </tr>\n",
       "  </tbody>\n",
       "</table>\n",
       "</div>"
      ],
      "text/plain": [
       "  MINISTERE    Code      Filière métier  RIME2017\n",
       "0    CULCOM   ADM01  Affaires générales  FP2ADM01\n",
       "1    CULCOM   ADM02  Affaires générales  FP2ADM04\n",
       "2    CULCOM   ADM03  Affaires générales  FP2ADM05\n",
       "3    CULCOM  ADM04A  Affaires générales  FP2ADM03\n",
       "4    CULCOM  ADM04B  Affaires générales  FP2ADM03"
      ]
     },
     "execution_count": 16,
     "metadata": {},
     "output_type": "execute_result"
    }
   ],
   "source": [
    "df22 = df22[['MINISTERE', 'Code','Filière métier','RIME2017']]\n",
    "df22.head()"
   ]
  },
  {
   "cell_type": "code",
   "execution_count": 17,
   "metadata": {},
   "outputs": [
    {
     "data": {
      "text/html": [
       "<div>\n",
       "<style scoped>\n",
       "    .dataframe tbody tr th:only-of-type {\n",
       "        vertical-align: middle;\n",
       "    }\n",
       "\n",
       "    .dataframe tbody tr th {\n",
       "        vertical-align: top;\n",
       "    }\n",
       "\n",
       "    .dataframe thead th {\n",
       "        text-align: right;\n",
       "    }\n",
       "</style>\n",
       "<table border=\"1\" class=\"dataframe\">\n",
       "  <thead>\n",
       "    <tr style=\"text-align: right;\">\n",
       "      <th></th>\n",
       "      <th>CODE_RIME2017</th>\n",
       "      <th>nouveau_domaine_fonctionnel</th>\n",
       "      <th>nouveau_lib_emploi</th>\n",
       "      <th>def_synthetique</th>\n",
       "      <th>nouveau_code_emploi</th>\n",
       "      <th>MINISTERE</th>\n",
       "      <th>Code</th>\n",
       "      <th>metier</th>\n",
       "      <th>RIME2017</th>\n",
       "    </tr>\n",
       "  </thead>\n",
       "  <tbody>\n",
       "    <tr>\n",
       "      <td>0</td>\n",
       "      <td>FP2ACH03</td>\n",
       "      <td>ACHAT</td>\n",
       "      <td>CONSEILLERE/CONSEILLER EN INGENIERIE D’ACHAT</td>\n",
       "      <td>Conseiller et apporter son expertise aux acteurs de la chaîne achat en vue d’optimiser l’achat public et de contribuer à sa performance.</td>\n",
       "      <td>FP2ACH03</td>\n",
       "      <td>CULCOM</td>\n",
       "      <td>ADM07</td>\n",
       "      <td>Affaires générales</td>\n",
       "      <td>FP2ACH03</td>\n",
       "    </tr>\n",
       "    <tr>\n",
       "      <td>1</td>\n",
       "      <td>FP2ACH03</td>\n",
       "      <td>ACHAT</td>\n",
       "      <td>CONSEILLERE/CONSEILLER EN INGENIERIE D’ACHAT</td>\n",
       "      <td>Conseiller et apporter son expertise aux acteurs de la chaîne achat en vue d’optimiser l’achat public et de contribuer à sa performance.</td>\n",
       "      <td>FP2ACH03</td>\n",
       "      <td>INTER</td>\n",
       "      <td>FP2ACH03</td>\n",
       "      <td>ACHAT</td>\n",
       "      <td>FP2ACH03</td>\n",
       "    </tr>\n",
       "    <tr>\n",
       "      <td>2</td>\n",
       "      <td>FP2ACH03</td>\n",
       "      <td>ACHAT</td>\n",
       "      <td>CONSEILLERE/CONSEILLER EN INGENIERIE D’ACHAT</td>\n",
       "      <td>Conseiller et apporter son expertise aux acteurs de la chaîne achat en vue d’optimiser l’achat public et de contribuer à sa performance.</td>\n",
       "      <td>FP2ACH03</td>\n",
       "      <td>MAAF</td>\n",
       "      <td>37-7</td>\n",
       "      <td>Logistique</td>\n",
       "      <td>FP2ACH03</td>\n",
       "    </tr>\n",
       "    <tr>\n",
       "      <td>3</td>\n",
       "      <td>FP2ACH03</td>\n",
       "      <td>ACHAT</td>\n",
       "      <td>CONSEILLERE/CONSEILLER EN INGENIERIE D’ACHAT</td>\n",
       "      <td>Conseiller et apporter son expertise aux acteurs de la chaîne achat en vue d’optimiser l’achat public et de contribuer à sa performance.</td>\n",
       "      <td>FP2ACH03</td>\n",
       "      <td>MEN</td>\n",
       "      <td>AGE06</td>\n",
       "      <td>Administration générale</td>\n",
       "      <td>FP2ACH03</td>\n",
       "    </tr>\n",
       "    <tr>\n",
       "      <td>4</td>\n",
       "      <td>FP2ACH03</td>\n",
       "      <td>ACHAT</td>\n",
       "      <td>CONSEILLERE/CONSEILLER EN INGENIERIE D’ACHAT</td>\n",
       "      <td>Conseiller et apporter son expertise aux acteurs de la chaîne achat en vue d’optimiser l’achat public et de contribuer à sa performance.</td>\n",
       "      <td>FP2ACH03</td>\n",
       "      <td>MASS</td>\n",
       "      <td>TACH000002</td>\n",
       "      <td>Achat</td>\n",
       "      <td>FP2ACH03</td>\n",
       "    </tr>\n",
       "  </tbody>\n",
       "</table>\n",
       "</div>"
      ],
      "text/plain": [
       "  CODE_RIME2017 nouveau_domaine_fonctionnel  \\\n",
       "0      FP2ACH03                       ACHAT   \n",
       "1      FP2ACH03                       ACHAT   \n",
       "2      FP2ACH03                       ACHAT   \n",
       "3      FP2ACH03                       ACHAT   \n",
       "4      FP2ACH03                       ACHAT   \n",
       "\n",
       "                             nouveau_lib_emploi  \\\n",
       "0  CONSEILLERE/CONSEILLER EN INGENIERIE D’ACHAT   \n",
       "1  CONSEILLERE/CONSEILLER EN INGENIERIE D’ACHAT   \n",
       "2  CONSEILLERE/CONSEILLER EN INGENIERIE D’ACHAT   \n",
       "3  CONSEILLERE/CONSEILLER EN INGENIERIE D’ACHAT   \n",
       "4  CONSEILLERE/CONSEILLER EN INGENIERIE D’ACHAT   \n",
       "\n",
       "                                                                                                                            def_synthetique  \\\n",
       "0  Conseiller et apporter son expertise aux acteurs de la chaîne achat en vue d’optimiser l’achat public et de contribuer à sa performance.   \n",
       "1  Conseiller et apporter son expertise aux acteurs de la chaîne achat en vue d’optimiser l’achat public et de contribuer à sa performance.   \n",
       "2  Conseiller et apporter son expertise aux acteurs de la chaîne achat en vue d’optimiser l’achat public et de contribuer à sa performance.   \n",
       "3  Conseiller et apporter son expertise aux acteurs de la chaîne achat en vue d’optimiser l’achat public et de contribuer à sa performance.   \n",
       "4  Conseiller et apporter son expertise aux acteurs de la chaîne achat en vue d’optimiser l’achat public et de contribuer à sa performance.   \n",
       "\n",
       "  nouveau_code_emploi MINISTERE        Code                   metier  RIME2017  \n",
       "0            FP2ACH03    CULCOM       ADM07       Affaires générales  FP2ACH03  \n",
       "1            FP2ACH03     INTER    FP2ACH03                    ACHAT  FP2ACH03  \n",
       "2            FP2ACH03      MAAF        37-7               Logistique  FP2ACH03  \n",
       "3            FP2ACH03       MEN       AGE06  Administration générale  FP2ACH03  \n",
       "4            FP2ACH03      MASS  TACH000002                    Achat  FP2ACH03  "
      ]
     },
     "execution_count": 17,
     "metadata": {},
     "output_type": "execute_result"
    }
   ],
   "source": [
    "df_merged = pd.merge(df12, df22, left_on='CODE_RIME2017', right_on= 'RIME2017', how='inner')\n",
    "df_merged.rename({'Filière métier' :'metier'}, axis=1, inplace=True)\n",
    "df_merged.head()"
   ]
  },
  {
   "cell_type": "code",
   "execution_count": 18,
   "metadata": {},
   "outputs": [],
   "source": [
    "df_merged['emploi'] = list(zip(df_merged.metier,df_merged.MINISTERE, df_merged.nouveau_domaine_fonctionnel))"
   ]
  },
  {
   "cell_type": "code",
   "execution_count": 19,
   "metadata": {},
   "outputs": [
    {
     "data": {
      "text/plain": [
       "CODE_RIME2017                   283\n",
       "nouveau_domaine_fonctionnel      33\n",
       "nouveau_lib_emploi              283\n",
       "def_synthetique                 282\n",
       "nouveau_code_emploi             283\n",
       "MINISTERE                        20\n",
       "Code                           2560\n",
       "metier                          327\n",
       "RIME2017                        283\n",
       "emploi                          778\n",
       "dtype: int64"
      ]
     },
     "execution_count": 19,
     "metadata": {},
     "output_type": "execute_result"
    }
   ],
   "source": [
    "df_merged.nunique()"
   ]
  },
  {
   "cell_type": "code",
   "execution_count": 20,
   "metadata": {},
   "outputs": [
    {
     "data": {
      "text/plain": [
       "(2857, 10)"
      ]
     },
     "execution_count": 20,
     "metadata": {},
     "output_type": "execute_result"
    }
   ],
   "source": [
    "df_merged.shape"
   ]
  },
  {
   "cell_type": "code",
   "execution_count": 21,
   "metadata": {},
   "outputs": [],
   "source": [
    "df_total = pd.merge(df_merged, df_merged1, left_on='Code', right_on= 'code_emploi', how='inner')\n",
    "df_total = df_total[['Code','emploi','savoir_faire', 'savoir_etre'] ]\n",
    "df_total['competences'] = list(zip(df_total.savoir_faire,df_total.savoir_etre))\n",
    "df_total = df_total.drop(['savoir_faire','savoir_etre'], axis=1)"
   ]
  },
  {
   "cell_type": "code",
   "execution_count": 22,
   "metadata": {},
   "outputs": [
    {
     "data": {
      "text/html": [
       "<div>\n",
       "<style scoped>\n",
       "    .dataframe tbody tr th:only-of-type {\n",
       "        vertical-align: middle;\n",
       "    }\n",
       "\n",
       "    .dataframe tbody tr th {\n",
       "        vertical-align: top;\n",
       "    }\n",
       "\n",
       "    .dataframe thead th {\n",
       "        text-align: right;\n",
       "    }\n",
       "</style>\n",
       "<table border=\"1\" class=\"dataframe\">\n",
       "  <thead>\n",
       "    <tr style=\"text-align: right;\">\n",
       "      <th></th>\n",
       "      <th>Code</th>\n",
       "      <th>emploi</th>\n",
       "      <th>competences</th>\n",
       "    </tr>\n",
       "  </thead>\n",
       "  <tbody>\n",
       "    <tr>\n",
       "      <td>0</td>\n",
       "      <td>ADM07</td>\n",
       "      <td>(Affaires générales, CULCOM, ACHAT)</td>\n",
       "      <td>(Communiquer,Animer une équipe,Négocier,Travailler en transversalité, Esprit d’analyse,Esprit de synthèse,Rigueur,Sens des relations humaines,Coll...</td>\n",
       "    </tr>\n",
       "    <tr>\n",
       "      <td>1</td>\n",
       "      <td>AGE06</td>\n",
       "      <td>(Administration générale, MEN, ACHAT)</td>\n",
       "      <td>(Animer un réseau/un groupe,Animer une réunion,Appliquer la réglementation des marchés publics,Assurer une veille,Transmettre ses connaissances,Pi...</td>\n",
       "    </tr>\n",
       "    <tr>\n",
       "      <td>2</td>\n",
       "      <td>TACH000002</td>\n",
       "      <td>(Achat, MASS, ACHAT)</td>\n",
       "      <td>(Accompagner, conseiller/Conduite et gestion de projet,Appréhender les exigences, valeurs et enjeux des partenaires,Argumenter et convaincre/Savoi...</td>\n",
       "    </tr>\n",
       "    <tr>\n",
       "      <td>3</td>\n",
       "      <td>TACH000002</td>\n",
       "      <td>(Achat, MASS, ACHAT)</td>\n",
       "      <td>(Accompagner, conseiller/Conduite et gestion de projet,Appréhender les exigences, valeurs et enjeux des partenaires,Argumenter et convaincre/Savoi...</td>\n",
       "    </tr>\n",
       "    <tr>\n",
       "      <td>4</td>\n",
       "      <td>TACH000002</td>\n",
       "      <td>(Achat, MASS, ACHAT)</td>\n",
       "      <td>(Accompagner, conseiller/Conduite et gestion de projet,Appréhender les exigences, valeurs et enjeux des partenaires,Argumenter et convaincre/Savoi...</td>\n",
       "    </tr>\n",
       "  </tbody>\n",
       "</table>\n",
       "</div>"
      ],
      "text/plain": [
       "         Code                                 emploi  \\\n",
       "0       ADM07    (Affaires générales, CULCOM, ACHAT)   \n",
       "1       AGE06  (Administration générale, MEN, ACHAT)   \n",
       "2  TACH000002                   (Achat, MASS, ACHAT)   \n",
       "3  TACH000002                   (Achat, MASS, ACHAT)   \n",
       "4  TACH000002                   (Achat, MASS, ACHAT)   \n",
       "\n",
       "                                                                                                                                             competences  \n",
       "0  (Communiquer,Animer une équipe,Négocier,Travailler en transversalité, Esprit d’analyse,Esprit de synthèse,Rigueur,Sens des relations humaines,Coll...  \n",
       "1  (Animer un réseau/un groupe,Animer une réunion,Appliquer la réglementation des marchés publics,Assurer une veille,Transmettre ses connaissances,Pi...  \n",
       "2  (Accompagner, conseiller/Conduite et gestion de projet,Appréhender les exigences, valeurs et enjeux des partenaires,Argumenter et convaincre/Savoi...  \n",
       "3  (Accompagner, conseiller/Conduite et gestion de projet,Appréhender les exigences, valeurs et enjeux des partenaires,Argumenter et convaincre/Savoi...  \n",
       "4  (Accompagner, conseiller/Conduite et gestion de projet,Appréhender les exigences, valeurs et enjeux des partenaires,Argumenter et convaincre/Savoi...  "
      ]
     },
     "execution_count": 22,
     "metadata": {},
     "output_type": "execute_result"
    }
   ],
   "source": [
    "df_total.head()"
   ]
  },
  {
   "cell_type": "code",
   "execution_count": 23,
   "metadata": {},
   "outputs": [
    {
     "data": {
      "text/plain": [
       "(1667, 3)"
      ]
     },
     "execution_count": 23,
     "metadata": {},
     "output_type": "execute_result"
    }
   ],
   "source": [
    "df_total.shape"
   ]
  },
  {
   "cell_type": "code",
   "execution_count": 24,
   "metadata": {},
   "outputs": [
    {
     "data": {
      "text/plain": [
       "Code           1037\n",
       "emploi          349\n",
       "competences    1010\n",
       "dtype: int64"
      ]
     },
     "execution_count": 24,
     "metadata": {},
     "output_type": "execute_result"
    }
   ],
   "source": [
    "df_total.nunique()"
   ]
  },
  {
   "cell_type": "code",
   "execution_count": 25,
   "metadata": {},
   "outputs": [],
   "source": [
    "df_total = df_total.drop_duplicates('emploi')"
   ]
  },
  {
   "cell_type": "code",
   "execution_count": 26,
   "metadata": {},
   "outputs": [],
   "source": [
    "df_total = df_total.set_index('Code')"
   ]
  },
  {
   "cell_type": "markdown",
   "metadata": {},
   "source": [
    "## 3ème fichier: CVs des collaborateurs"
   ]
  },
  {
   "cell_type": "code",
   "execution_count": 27,
   "metadata": {},
   "outputs": [
    {
     "data": {
      "text/html": [
       "<div>\n",
       "<style scoped>\n",
       "    .dataframe tbody tr th:only-of-type {\n",
       "        vertical-align: middle;\n",
       "    }\n",
       "\n",
       "    .dataframe tbody tr th {\n",
       "        vertical-align: top;\n",
       "    }\n",
       "\n",
       "    .dataframe thead th {\n",
       "        text-align: right;\n",
       "    }\n",
       "</style>\n",
       "<table border=\"1\" class=\"dataframe\">\n",
       "  <thead>\n",
       "    <tr style=\"text-align: right;\">\n",
       "      <th></th>\n",
       "      <th>CV</th>\n",
       "    </tr>\n",
       "  </thead>\n",
       "  <tbody>\n",
       "    <tr>\n",
       "      <td>0</td>\n",
       "      <td>Martin FLORENT\\n40 ans\\n\\nExpériences \\nCharge d’activites d’etat-major de securite : Participer au recueil, à la gestion événementielle et à la t...</td>\n",
       "    </tr>\n",
       "    <tr>\n",
       "      <td>1</td>\n",
       "      <td>Victor Chardon Chargé de mission certificats d’économies d’énergie Né le 13 janvier 1981 \\n\\nMissions\\nCharge des certificats d’economies d’energi...</td>\n",
       "    </tr>\n",
       "    <tr>\n",
       "      <td>2</td>\n",
       "      <td>Salomé Barthes Chargée de mission régional à l'intelligence économique Née le 23 juin 1974\\n\\nCOMPETENCES\\nCuriosité intellectuelle, Orienter, Enq...</td>\n",
       "    </tr>\n",
       "    <tr>\n",
       "      <td>3</td>\n",
       "      <td>Adèle, Druet\\n\\nChargée de mission défense et sécurité\\nNée le 21 oct 1977 \\n\\nEXPERIENCES Chargee de prevention des risques majeurs et de lutte c...</td>\n",
       "    </tr>\n",
       "    <tr>\n",
       "      <td>4</td>\n",
       "      <td>Nadine, BLANCHOT\\n\\nRédactrice de marchés publics Née le 20 février 1981\\n\\n\\nExpériences \\nConseillère en ingenierie d’achat : Conseiller et appo...</td>\n",
       "    </tr>\n",
       "  </tbody>\n",
       "</table>\n",
       "</div>"
      ],
      "text/plain": [
       "                                                                                                                                                      CV\n",
       "0  Martin FLORENT\\n40 ans\\n\\nExpériences \\nCharge d’activites d’etat-major de securite : Participer au recueil, à la gestion événementielle et à la t...\n",
       "1  Victor Chardon Chargé de mission certificats d’économies d’énergie Né le 13 janvier 1981 \\n\\nMissions\\nCharge des certificats d’economies d’energi...\n",
       "2  Salomé Barthes Chargée de mission régional à l'intelligence économique Née le 23 juin 1974\\n\\nCOMPETENCES\\nCuriosité intellectuelle, Orienter, Enq...\n",
       "3  Adèle, Druet\\n\\nChargée de mission défense et sécurité\\nNée le 21 oct 1977 \\n\\nEXPERIENCES Chargee de prevention des risques majeurs et de lutte c...\n",
       "4  Nadine, BLANCHOT\\n\\nRédactrice de marchés publics Née le 20 février 1981\\n\\n\\nExpériences \\nConseillère en ingenierie d’achat : Conseiller et appo..."
      ]
     },
     "execution_count": 27,
     "metadata": {},
     "output_type": "execute_result"
    }
   ],
   "source": [
    "file_name='../data/CV_fictifs_DataLab/CV_HACKATHON.xlsx'\n",
    "xl_file = pd.ExcelFile(file_name)\n",
    "data1 = pd.read_excel(file_name, index_col=0)\n",
    "data1.head()"
   ]
  },
  {
   "cell_type": "code",
   "execution_count": 28,
   "metadata": {},
   "outputs": [
    {
     "name": "stdout",
     "output_type": "stream",
     "text": [
      "data-set size:  100\n"
     ]
    }
   ],
   "source": [
    "print(\"data-set size: \", len(data1))\n",
    "size_data=len(data1)"
   ]
  },
  {
   "cell_type": "code",
   "execution_count": 29,
   "metadata": {
    "scrolled": true
   },
   "outputs": [
    {
     "data": {
      "text/plain": [
       "\"Salomé Barthes Chargée de mission régional à l'intelligence économique Née le 23 juin 1974\\n\\nCOMPETENCES\\nCuriosité intellectuelle, Orienter, Enquêter, Analyser une information  un document  une réglementation\\n\\nParcours professionnel\\nChargee du renseignement operationnel : Rechercher et/ou exploiter des informations sur le terrain afin d’évaluer une situation ou des événements pouvant porter atteinte aux institutions et/ou aux intérêts fondamentaux de la nation.\\n\\n\""
      ]
     },
     "execution_count": 29,
     "metadata": {},
     "output_type": "execute_result"
    }
   ],
   "source": [
    "data1['CV'][2]"
   ]
  },
  {
   "cell_type": "markdown",
   "metadata": {},
   "source": [
    "# Preprocessing"
   ]
  },
  {
   "cell_type": "code",
   "execution_count": 30,
   "metadata": {},
   "outputs": [],
   "source": [
    "other_stopwords = ['uvre','ans','les','a','afin','alors',  'plus', 'moins', 'faut', 'tout', 'tous', 'prends', 'tre', 'si','non','doit','avoir','comme','trop','leurs','faire','ils','peut','bien','aussi','cela','gens', 'sans', 'car', 'très', 'fait', 'nan','\\'', 'qu\\'', 'd\\'', 'l\\'', '\"', 'être', 'mai', 'faudrait']\n",
    "other_stopwords2=['uvre']\n",
    "stopWords = stopwords.words('french')\n",
    "stopWords.extend(other_stopwords2)\n",
    "stopWords = set(other_stopwords2)\n",
    "\n",
    "def clean(X):\n",
    "    #X column data\n",
    "\n",
    "    low_text = X.lower() # to lowercase\n",
    "    clean_text = re.sub(r'ô','o',low_text)\n",
    "    clean_text = re.sub(r'[éêè]','e',clean_text) \n",
    "    clean_text = re.sub(r'([^a-zéèûôàêô])',' ',clean_text) \n",
    "    clean_text = re.sub('\\n', ' ',clean_text) \n",
    "    \n",
    "    return clean_text"
   ]
  },
  {
   "cell_type": "code",
   "execution_count": 31,
   "metadata": {},
   "outputs": [
    {
     "data": {
      "text/html": [
       "<div>\n",
       "<style scoped>\n",
       "    .dataframe tbody tr th:only-of-type {\n",
       "        vertical-align: middle;\n",
       "    }\n",
       "\n",
       "    .dataframe tbody tr th {\n",
       "        vertical-align: top;\n",
       "    }\n",
       "\n",
       "    .dataframe thead th {\n",
       "        text-align: right;\n",
       "    }\n",
       "</style>\n",
       "<table border=\"1\" class=\"dataframe\">\n",
       "  <thead>\n",
       "    <tr style=\"text-align: right;\">\n",
       "      <th></th>\n",
       "      <th>Profil</th>\n",
       "      <th>Compétences</th>\n",
       "    </tr>\n",
       "  </thead>\n",
       "  <tbody>\n",
       "    <tr>\n",
       "      <td>0</td>\n",
       "      <td>martin florent    ans  experiences  charge d activites d etat major de securite   participer au recueil  à la gestion evenementielle et à la trans...</td>\n",
       "      <td>prendre en compte un contexte  une contrainte  une complexite   analyser un risque   prioriser   communiquer dans un contexte de crise   rigueur</td>\n",
       "    </tr>\n",
       "    <tr>\n",
       "      <td>1</td>\n",
       "      <td>victor chardon charge de mission certificats d economies d energie ne le    janvier        missions charge des certificats d economies d energie  ...</td>\n",
       "      <td>sens de la pedagogie  controler  rediger une lettre  un document  une note   un rapport  sens de l innovation   creativite  faire preuve d autori...</td>\n",
       "    </tr>\n",
       "    <tr>\n",
       "      <td>2</td>\n",
       "      <td>salome barthes chargee de mission regional à l intelligence economique nee le    juin</td>\n",
       "      <td>curiosite intellectuelle  orienter  enqueter  analyser une information  un document  une reglementation  parcours professionnel chargee du rensei...</td>\n",
       "    </tr>\n",
       "    <tr>\n",
       "      <td>3</td>\n",
       "      <td>adele  druet  chargee de mission defense et securite nee le    oct        experiences chargee de prevention des risques majeurs et de lutte contre...</td>\n",
       "      <td>sens de l organisation analyser un risque elaborer une strategie  une politique reactivite anticiper un risque sens de l analyse</td>\n",
       "    </tr>\n",
       "    <tr>\n",
       "      <td>4</td>\n",
       "      <td>nadine  blanchot  redactrice de marches publics nee le    fevrier        experiences  conseillere en ingenierie d achat   conseiller et apporter s...</td>\n",
       "      <td>esprit de synthese  sens des relations humaines  accompagner le changement  dialoguer</td>\n",
       "    </tr>\n",
       "  </tbody>\n",
       "</table>\n",
       "</div>"
      ],
      "text/plain": [
       "                                                                                                                                                  Profil  \\\n",
       "0  martin florent    ans  experiences  charge d activites d etat major de securite   participer au recueil  à la gestion evenementielle et à la trans...   \n",
       "1  victor chardon charge de mission certificats d economies d energie ne le    janvier        missions charge des certificats d economies d energie  ...   \n",
       "2                                                           salome barthes chargee de mission regional à l intelligence economique nee le    juin          \n",
       "3  adele  druet  chargee de mission defense et securite nee le    oct        experiences chargee de prevention des risques majeurs et de lutte contre...   \n",
       "4  nadine  blanchot  redactrice de marches publics nee le    fevrier        experiences  conseillere en ingenierie d achat   conseiller et apporter s...   \n",
       "\n",
       "                                                                                                                                             Compétences  \n",
       "0     prendre en compte un contexte  une contrainte  une complexite   analyser un risque   prioriser   communiquer dans un contexte de crise   rigueur    \n",
       "1   sens de la pedagogie  controler  rediger une lettre  un document  une note   un rapport  sens de l innovation   creativite  faire preuve d autori...  \n",
       "2   curiosite intellectuelle  orienter  enqueter  analyser une information  un document  une reglementation  parcours professionnel chargee du rensei...  \n",
       "3                      sens de l organisation analyser un risque elaborer une strategie  une politique reactivite anticiper un risque sens de l analyse   \n",
       "4                                                                esprit de synthese  sens des relations humaines  accompagner le changement  dialoguer    "
      ]
     },
     "execution_count": 31,
     "metadata": {},
     "output_type": "execute_result"
    }
   ],
   "source": [
    "df_profils = pd.DataFrame(columns =['Profil','Compétences'],index=range(size_data))\n",
    "for i in range(size_data):\n",
    "    text=data1['CV']\n",
    "    text=text[i]\n",
    "    clean_text=clean(text)\n",
    "    out=clean_text.split('competences')\n",
    "    df_profils.loc[i]=[out[0],out[len(out)-1]]\n",
    "df_profils.head()"
   ]
  },
  {
   "cell_type": "code",
   "execution_count": 32,
   "metadata": {},
   "outputs": [
    {
     "data": {
      "text/html": [
       "<div>\n",
       "<style scoped>\n",
       "    .dataframe tbody tr th:only-of-type {\n",
       "        vertical-align: middle;\n",
       "    }\n",
       "\n",
       "    .dataframe tbody tr th {\n",
       "        vertical-align: top;\n",
       "    }\n",
       "\n",
       "    .dataframe thead th {\n",
       "        text-align: right;\n",
       "    }\n",
       "</style>\n",
       "<table border=\"1\" class=\"dataframe\">\n",
       "  <thead>\n",
       "    <tr style=\"text-align: right;\">\n",
       "      <th></th>\n",
       "      <th>Profil</th>\n",
       "      <th>Compétences</th>\n",
       "    </tr>\n",
       "  </thead>\n",
       "  <tbody>\n",
       "    <tr>\n",
       "      <td>0</td>\n",
       "      <td>martin florent    ans  experiences  charge d activites d etat major de securite   participer au recueil  à la gestion evenementielle et à la trans...</td>\n",
       "      <td>prendre en compte un contexte  une contrainte  une complexite   analyser un risque   prioriser   communiquer dans un contexte de crise   rigueur</td>\n",
       "    </tr>\n",
       "    <tr>\n",
       "      <td>1</td>\n",
       "      <td>victor chardon charge de mission certificats d economies d energie ne le    janvier        missions charge des certificats d economies d energie  ...</td>\n",
       "      <td>sens de la pedagogie  controler  rediger une lettre  un document  une note   un rapport  sens de l innovation   creativite  faire preuve d autori...</td>\n",
       "    </tr>\n",
       "    <tr>\n",
       "      <td>2</td>\n",
       "      <td>salome barthes chargee de mission regional à l intelligence economique nee le    juin</td>\n",
       "      <td>curiosite intellectuelle  orienter  enqueter  analyser une information  un document  une reglementation  parcours professionnel chargee du rensei...</td>\n",
       "    </tr>\n",
       "    <tr>\n",
       "      <td>3</td>\n",
       "      <td>adele  druet  chargee de mission defense et securite nee le    oct        experiences chargee de prevention des risques majeurs et de lutte contre...</td>\n",
       "      <td>sens de l organisation analyser un risque elaborer une strategie  une politique reactivite anticiper un risque sens de l analyse</td>\n",
       "    </tr>\n",
       "    <tr>\n",
       "      <td>4</td>\n",
       "      <td>nadine  blanchot  redactrice de marches publics nee le    fevrier        experiences  conseillere en ingenierie d achat   conseiller et apporter s...</td>\n",
       "      <td>esprit de synthese  sens des relations humaines  accompagner le changement  dialoguer</td>\n",
       "    </tr>\n",
       "  </tbody>\n",
       "</table>\n",
       "</div>"
      ],
      "text/plain": [
       "                                                                                                                                                  Profil  \\\n",
       "0  martin florent    ans  experiences  charge d activites d etat major de securite   participer au recueil  à la gestion evenementielle et à la trans...   \n",
       "1  victor chardon charge de mission certificats d economies d energie ne le    janvier        missions charge des certificats d economies d energie  ...   \n",
       "2                                                           salome barthes chargee de mission regional à l intelligence economique nee le    juin          \n",
       "3  adele  druet  chargee de mission defense et securite nee le    oct        experiences chargee de prevention des risques majeurs et de lutte contre...   \n",
       "4  nadine  blanchot  redactrice de marches publics nee le    fevrier        experiences  conseillere en ingenierie d achat   conseiller et apporter s...   \n",
       "\n",
       "                                                                                                                                             Compétences  \n",
       "0     prendre en compte un contexte  une contrainte  une complexite   analyser un risque   prioriser   communiquer dans un contexte de crise   rigueur    \n",
       "1   sens de la pedagogie  controler  rediger une lettre  un document  une note   un rapport  sens de l innovation   creativite  faire preuve d autori...  \n",
       "2   curiosite intellectuelle  orienter  enqueter  analyser une information  un document  une reglementation  parcours professionnel chargee du rensei...  \n",
       "3                      sens de l organisation analyser un risque elaborer une strategie  une politique reactivite anticiper un risque sens de l analyse   \n",
       "4                                                                esprit de synthese  sens des relations humaines  accompagner le changement  dialoguer    "
      ]
     },
     "execution_count": 32,
     "metadata": {},
     "output_type": "execute_result"
    }
   ],
   "source": [
    "df_profils['Compétences'] = df_profils['Compétences'] .apply(lambda x:clean(x))\n",
    "df_profils.head()"
   ]
  },
  {
   "cell_type": "code",
   "execution_count": 33,
   "metadata": {},
   "outputs": [
    {
     "data": {
      "text/html": [
       "<div>\n",
       "<style scoped>\n",
       "    .dataframe tbody tr th:only-of-type {\n",
       "        vertical-align: middle;\n",
       "    }\n",
       "\n",
       "    .dataframe tbody tr th {\n",
       "        vertical-align: top;\n",
       "    }\n",
       "\n",
       "    .dataframe thead th {\n",
       "        text-align: right;\n",
       "    }\n",
       "</style>\n",
       "<table border=\"1\" class=\"dataframe\">\n",
       "  <thead>\n",
       "    <tr style=\"text-align: right;\">\n",
       "      <th></th>\n",
       "      <th>emploi</th>\n",
       "      <th>competences</th>\n",
       "    </tr>\n",
       "    <tr>\n",
       "      <th>Code</th>\n",
       "      <th></th>\n",
       "      <th></th>\n",
       "    </tr>\n",
       "  </thead>\n",
       "  <tbody>\n",
       "    <tr>\n",
       "      <td>ADM07</td>\n",
       "      <td>(Affaires générales, CULCOM, ACHAT)</td>\n",
       "      <td>communiquer animer une equipe negocier travailler en transversalite    esprit d analyse esprit de synthese rigueur sens des relations humaines c...</td>\n",
       "    </tr>\n",
       "    <tr>\n",
       "      <td>AGE06</td>\n",
       "      <td>(Administration générale, MEN, ACHAT)</td>\n",
       "      <td>animer un reseau un groupe animer une reunion appliquer la reglementation des marches publics assurer une veille transmettre ses connaissances p...</td>\n",
       "    </tr>\n",
       "    <tr>\n",
       "      <td>TACH000002</td>\n",
       "      <td>(Achat, MASS, ACHAT)</td>\n",
       "      <td>accompagner  conseiller conduite et gestion de projet apprehender les exigences  valeurs et enjeux des partenaires argumenter et convaincre savo...</td>\n",
       "    </tr>\n",
       "    <tr>\n",
       "      <td>TACH000002</td>\n",
       "      <td>(Achat, MTRAV, ACHAT)</td>\n",
       "      <td>accompagner  conseiller conduite et gestion de projet apprehender les exigences  valeurs et enjeux des partenaires argumenter et convaincre savo...</td>\n",
       "    </tr>\n",
       "    <tr>\n",
       "      <td>TACH000002</td>\n",
       "      <td>(Achat, SECU, ACHAT)</td>\n",
       "      <td>accompagner  conseiller conduite et gestion de projet apprehender les exigences  valeurs et enjeux des partenaires argumenter et convaincre savo...</td>\n",
       "    </tr>\n",
       "  </tbody>\n",
       "</table>\n",
       "</div>"
      ],
      "text/plain": [
       "                                           emploi  \\\n",
       "Code                                                \n",
       "ADM07         (Affaires générales, CULCOM, ACHAT)   \n",
       "AGE06       (Administration générale, MEN, ACHAT)   \n",
       "TACH000002                   (Achat, MASS, ACHAT)   \n",
       "TACH000002                  (Achat, MTRAV, ACHAT)   \n",
       "TACH000002                   (Achat, SECU, ACHAT)   \n",
       "\n",
       "                                                                                                                                                      competences  \n",
       "Code                                                                                                                                                               \n",
       "ADM07         communiquer animer une equipe negocier travailler en transversalite    esprit d analyse esprit de synthese rigueur sens des relations humaines c...  \n",
       "AGE06         animer un reseau un groupe animer une reunion appliquer la reglementation des marches publics assurer une veille transmettre ses connaissances p...  \n",
       "TACH000002    accompagner  conseiller conduite et gestion de projet apprehender les exigences  valeurs et enjeux des partenaires argumenter et convaincre savo...  \n",
       "TACH000002    accompagner  conseiller conduite et gestion de projet apprehender les exigences  valeurs et enjeux des partenaires argumenter et convaincre savo...  \n",
       "TACH000002    accompagner  conseiller conduite et gestion de projet apprehender les exigences  valeurs et enjeux des partenaires argumenter et convaincre savo...  "
      ]
     },
     "execution_count": 33,
     "metadata": {},
     "output_type": "execute_result"
    }
   ],
   "source": [
    "df_total['competences'] = df_total['competences'] .apply(lambda x:clean(str(x)))\n",
    "df_total.head()"
   ]
  },
  {
   "cell_type": "code",
   "execution_count": 34,
   "metadata": {},
   "outputs": [],
   "source": [
    "df_total[\"competences\"] = df_total[\"competences\"].apply(word_tokenize)\n",
    "df_profils['Compétences'] = df_profils['Compétences'].apply(word_tokenize)"
   ]
  },
  {
   "cell_type": "code",
   "execution_count": 35,
   "metadata": {},
   "outputs": [
    {
     "data": {
      "text/html": [
       "<div>\n",
       "<style scoped>\n",
       "    .dataframe tbody tr th:only-of-type {\n",
       "        vertical-align: middle;\n",
       "    }\n",
       "\n",
       "    .dataframe tbody tr th {\n",
       "        vertical-align: top;\n",
       "    }\n",
       "\n",
       "    .dataframe thead th {\n",
       "        text-align: right;\n",
       "    }\n",
       "</style>\n",
       "<table border=\"1\" class=\"dataframe\">\n",
       "  <thead>\n",
       "    <tr style=\"text-align: right;\">\n",
       "      <th></th>\n",
       "      <th>emploi</th>\n",
       "      <th>competences</th>\n",
       "    </tr>\n",
       "    <tr>\n",
       "      <th>Code</th>\n",
       "      <th></th>\n",
       "      <th></th>\n",
       "    </tr>\n",
       "  </thead>\n",
       "  <tbody>\n",
       "    <tr>\n",
       "      <td>ADM07</td>\n",
       "      <td>(Affaires générales, CULCOM, ACHAT)</td>\n",
       "      <td>[communiquer, animer, equipe, negocier, travailler, transversalite, esprit, analyse, esprit, synthese, rigueur, sens, relations, humaines, collabo...</td>\n",
       "    </tr>\n",
       "    <tr>\n",
       "      <td>AGE06</td>\n",
       "      <td>(Administration générale, MEN, ACHAT)</td>\n",
       "      <td>[animer, reseau, groupe, animer, reunion, appliquer, reglementation, marches, publics, assurer, veille, transmettre, connaissances, piloter, proje...</td>\n",
       "    </tr>\n",
       "    <tr>\n",
       "      <td>TACH000002</td>\n",
       "      <td>(Achat, MASS, ACHAT)</td>\n",
       "      <td>[accompagner, conseiller, conduite, gestion, projet, apprehender, exigences, valeurs, enjeux, partenaires, argumenter, convaincre, savoir, mener, ...</td>\n",
       "    </tr>\n",
       "    <tr>\n",
       "      <td>TACH000002</td>\n",
       "      <td>(Achat, MTRAV, ACHAT)</td>\n",
       "      <td>[accompagner, conseiller, conduite, gestion, projet, apprehender, exigences, valeurs, enjeux, partenaires, argumenter, convaincre, savoir, mener, ...</td>\n",
       "    </tr>\n",
       "    <tr>\n",
       "      <td>TACH000002</td>\n",
       "      <td>(Achat, SECU, ACHAT)</td>\n",
       "      <td>[accompagner, conseiller, conduite, gestion, projet, apprehender, exigences, valeurs, enjeux, partenaires, argumenter, convaincre, savoir, mener, ...</td>\n",
       "    </tr>\n",
       "  </tbody>\n",
       "</table>\n",
       "</div>"
      ],
      "text/plain": [
       "                                           emploi  \\\n",
       "Code                                                \n",
       "ADM07         (Affaires générales, CULCOM, ACHAT)   \n",
       "AGE06       (Administration générale, MEN, ACHAT)   \n",
       "TACH000002                   (Achat, MASS, ACHAT)   \n",
       "TACH000002                  (Achat, MTRAV, ACHAT)   \n",
       "TACH000002                   (Achat, SECU, ACHAT)   \n",
       "\n",
       "                                                                                                                                                      competences  \n",
       "Code                                                                                                                                                               \n",
       "ADM07       [communiquer, animer, equipe, negocier, travailler, transversalite, esprit, analyse, esprit, synthese, rigueur, sens, relations, humaines, collabo...  \n",
       "AGE06       [animer, reseau, groupe, animer, reunion, appliquer, reglementation, marches, publics, assurer, veille, transmettre, connaissances, piloter, proje...  \n",
       "TACH000002  [accompagner, conseiller, conduite, gestion, projet, apprehender, exigences, valeurs, enjeux, partenaires, argumenter, convaincre, savoir, mener, ...  \n",
       "TACH000002  [accompagner, conseiller, conduite, gestion, projet, apprehender, exigences, valeurs, enjeux, partenaires, argumenter, convaincre, savoir, mener, ...  \n",
       "TACH000002  [accompagner, conseiller, conduite, gestion, projet, apprehender, exigences, valeurs, enjeux, partenaires, argumenter, convaincre, savoir, mener, ...  "
      ]
     },
     "execution_count": 35,
     "metadata": {},
     "output_type": "execute_result"
    }
   ],
   "source": [
    "stop.append([\"''\",\",\", \"''\",'’'])  \n",
    "\n",
    "df_total[\"competences\"] = df_total[\"competences\"].apply(lambda x: [item for item in x if item not in stop])\n",
    "df_total.head()"
   ]
  },
  {
   "cell_type": "code",
   "execution_count": 36,
   "metadata": {},
   "outputs": [],
   "source": [
    "df_profils['Compétences'] = df_profils['Compétences'].apply(lambda x: [item for item in x if item not in stop])"
   ]
  },
  {
   "cell_type": "code",
   "execution_count": 37,
   "metadata": {
    "scrolled": true
   },
   "outputs": [
    {
     "data": {
      "text/html": [
       "<div>\n",
       "<style scoped>\n",
       "    .dataframe tbody tr th:only-of-type {\n",
       "        vertical-align: middle;\n",
       "    }\n",
       "\n",
       "    .dataframe tbody tr th {\n",
       "        vertical-align: top;\n",
       "    }\n",
       "\n",
       "    .dataframe thead th {\n",
       "        text-align: right;\n",
       "    }\n",
       "</style>\n",
       "<table border=\"1\" class=\"dataframe\">\n",
       "  <thead>\n",
       "    <tr style=\"text-align: right;\">\n",
       "      <th></th>\n",
       "      <th>Profil</th>\n",
       "      <th>Compétences</th>\n",
       "    </tr>\n",
       "  </thead>\n",
       "  <tbody>\n",
       "    <tr>\n",
       "      <td>0</td>\n",
       "      <td>martin florent    ans  experiences  charge d activites d etat major de securite   participer au recueil  à la gestion evenementielle et à la trans...</td>\n",
       "      <td>[prendre, compte, contexte, contrainte, complexite, analyser, risque, prioriser, communiquer, contexte, crise, rigueur]</td>\n",
       "    </tr>\n",
       "    <tr>\n",
       "      <td>1</td>\n",
       "      <td>victor chardon charge de mission certificats d economies d energie ne le    janvier        missions charge des certificats d economies d energie  ...</td>\n",
       "      <td>[sens, pedagogie, controler, rediger, lettre, document, note, rapport, sens, innovation, creativite, faire, preuve, autorite, travailler, reseau, ...</td>\n",
       "    </tr>\n",
       "    <tr>\n",
       "      <td>2</td>\n",
       "      <td>salome barthes chargee de mission regional à l intelligence economique nee le    juin</td>\n",
       "      <td>[curiosite, intellectuelle, orienter, enqueter, analyser, information, document, reglementation, parcours, professionnel, chargee, renseignement, ...</td>\n",
       "    </tr>\n",
       "    <tr>\n",
       "      <td>3</td>\n",
       "      <td>adele  druet  chargee de mission defense et securite nee le    oct        experiences chargee de prevention des risques majeurs et de lutte contre...</td>\n",
       "      <td>[sens, organisation, analyser, risque, elaborer, strategie, politique, reactivite, anticiper, risque, sens, analyse]</td>\n",
       "    </tr>\n",
       "    <tr>\n",
       "      <td>4</td>\n",
       "      <td>nadine  blanchot  redactrice de marches publics nee le    fevrier        experiences  conseillere en ingenierie d achat   conseiller et apporter s...</td>\n",
       "      <td>[esprit, synthese, sens, relations, humaines, accompagner, changement, dialoguer]</td>\n",
       "    </tr>\n",
       "  </tbody>\n",
       "</table>\n",
       "</div>"
      ],
      "text/plain": [
       "                                                                                                                                                  Profil  \\\n",
       "0  martin florent    ans  experiences  charge d activites d etat major de securite   participer au recueil  à la gestion evenementielle et à la trans...   \n",
       "1  victor chardon charge de mission certificats d economies d energie ne le    janvier        missions charge des certificats d economies d energie  ...   \n",
       "2                                                           salome barthes chargee de mission regional à l intelligence economique nee le    juin          \n",
       "3  adele  druet  chargee de mission defense et securite nee le    oct        experiences chargee de prevention des risques majeurs et de lutte contre...   \n",
       "4  nadine  blanchot  redactrice de marches publics nee le    fevrier        experiences  conseillere en ingenierie d achat   conseiller et apporter s...   \n",
       "\n",
       "                                                                                                                                             Compétences  \n",
       "0                                [prendre, compte, contexte, contrainte, complexite, analyser, risque, prioriser, communiquer, contexte, crise, rigueur]  \n",
       "1  [sens, pedagogie, controler, rediger, lettre, document, note, rapport, sens, innovation, creativite, faire, preuve, autorite, travailler, reseau, ...  \n",
       "2  [curiosite, intellectuelle, orienter, enqueter, analyser, information, document, reglementation, parcours, professionnel, chargee, renseignement, ...  \n",
       "3                                   [sens, organisation, analyser, risque, elaborer, strategie, politique, reactivite, anticiper, risque, sens, analyse]  \n",
       "4                                                                      [esprit, synthese, sens, relations, humaines, accompagner, changement, dialoguer]  "
      ]
     },
     "execution_count": 37,
     "metadata": {},
     "output_type": "execute_result"
    }
   ],
   "source": [
    "df_profils.head()"
   ]
  },
  {
   "cell_type": "markdown",
   "metadata": {},
   "source": [
    "# Matching"
   ]
  },
  {
   "cell_type": "markdown",
   "metadata": {},
   "source": [
    "### Liste des codes emplois"
   ]
  },
  {
   "cell_type": "code",
   "execution_count": 39,
   "metadata": {},
   "outputs": [
    {
     "data": {
      "text/plain": [
       "'TACH000002'"
      ]
     },
     "execution_count": 39,
     "metadata": {},
     "output_type": "execute_result"
    }
   ],
   "source": [
    "list_emploi=list(df_total.index)\n",
    "code_emploi_dict = { i : list_emploi[i] for i in range(0, len(list_emploi) ) }\n",
    "code_emploi_dict[3]"
   ]
  },
  {
   "cell_type": "code",
   "execution_count": 41,
   "metadata": {},
   "outputs": [
    {
     "name": "stdout",
     "output_type": "stream",
     "text": [
      "3\n"
     ]
    }
   ],
   "source": [
    "def get_key(val): \n",
    "    for key, value in code_emploi_dict.items(): \n",
    "         if val == value:\n",
    "                return key +1\n",
    "  \n",
    "    return \"key doesn't exist\"\n",
    "  \n",
    "\n",
    "  \n",
    "  \n",
    "print(get_key('TACH000002')) "
   ]
  },
  {
   "cell_type": "markdown",
   "metadata": {},
   "source": [
    "### Synonymes des compétences de chaque emploi"
   ]
  },
  {
   "cell_type": "code",
   "execution_count": 247,
   "metadata": {},
   "outputs": [
    {
     "name": "stderr",
     "output_type": "stream",
     "text": [
      "[nltk_data] Downloading package wordnet to /Users/siwar/nltk_data...\n",
      "[nltk_data]   Package wordnet is already up-to-date!\n",
      "[nltk_data] Downloading package omw to /Users/siwar/nltk_data...\n",
      "[nltk_data]   Package omw is already up-to-date!\n"
     ]
    }
   ],
   "source": [
    "from nltk.corpus import wordnet as wn\n",
    "nltk.download('wordnet')\n",
    "nltk.download('omw')\n",
    "\n",
    "\n",
    "def synonyme(word):\n",
    "    syn= [synset.lemma_names('fra') for synset in wn.synsets(str(word), lang='fra')]\n",
    "    return syn[:2]\n",
    "\n",
    "list_df=df_total['competences'].tolist()\n",
    "list_df_complete=[] #Liste des compétences avec synonymes\n",
    "\n",
    "for competence in list_df :\n",
    "    l=[synonyme(token) for token in competence]\n",
    "    l=sum(l, [])\n",
    "    l=sum(l,[])\n",
    "    l = list(dict.fromkeys(l))\n",
    "    #list_df_complete.append(competence)\n",
    "    list_df_complete.append(l)"
   ]
  },
  {
   "cell_type": "code",
   "execution_count": 248,
   "metadata": {},
   "outputs": [],
   "source": [
    "list_df=list_df_complete"
   ]
  },
  {
   "cell_type": "markdown",
   "metadata": {},
   "source": [
    "### Computing the similarities"
   ]
  },
  {
   "cell_type": "code",
   "execution_count": 249,
   "metadata": {},
   "outputs": [],
   "source": [
    "dictionary = gensim.corpora.Dictionary(list_df)"
   ]
  },
  {
   "cell_type": "code",
   "execution_count": 250,
   "metadata": {},
   "outputs": [],
   "source": [
    "#every word and its occurrence\n",
    "corpus = [dictionary.doc2bow(lists) for lists in list_df]"
   ]
  },
  {
   "cell_type": "code",
   "execution_count": 325,
   "metadata": {},
   "outputs": [],
   "source": [
    "#query=df_profils['Compétences'][7]\n",
    "query=['apprendre',\n",
    " 'apprendre_par_cœur',\n",
    " 'mémoriser',\n",
    " 'synthétiser',\n",
    " 'exploiter',\n",
    " 'ouvrage',\n",
    " 'travailler',\n",
    " 'robinet',\n",
    " 'profiter',\n",
    " 'courir',\n",
    " 'fonctionner',\n",
    " 'opérer',\n",
    " 'concevoir',\n",
    " 'imaginer',\n",
    " 'avoir',\n",
    " 'devenir',\n",
    " 'donner_naissance_à',\n",
    " 'engendrer',\n",
    " 'être',\n",
    " 'générer',\n",
    " 'mère',\n",
    " 'obtenir',\n",
    " 'père',\n",
    " 'recevoir',\n",
    " 'projet',\n",
    " 'diagramme',\n",
    " 'sentence',\n",
    " 'arrêt',\n",
    " 'décision',\n",
    " 'judiciaire',\n",
    " 'condamnation',\n",
    " 'conviction',\n",
    " 'phrase',\n",
    " 'S',\n",
    " 'svedberg',\n",
    " 'Swedberg',\n",
    " 's',\n",
    " 'seconde',\n",
    " 'assurer',\n",
    " 'attester',\n",
    " 'démontrer',\n",
    " 'exprimer',\n",
    " 'indiquer',\n",
    " 'prouver',\n",
    " 'témoigner',\n",
    " 'paraître',\n",
    " 'sembler',\n",
    " 'parler',\n",
    " 'graphique',\n",
    " 'oral',\n",
    " 'organisme',\n",
    " 'organisme_vivant',]\n",
    "\n",
    "query=[synonyme(competence) for competence in query]\n",
    "query=sum(query, [])\n",
    "query=sum(query, [])\n",
    "query_doc_bow = dictionary.doc2bow(query)"
   ]
  },
  {
   "cell_type": "code",
   "execution_count": 326,
   "metadata": {},
   "outputs": [],
   "source": [
    "# building the index\n",
    "tf_idf = gensim.models.TfidfModel(corpus)\n",
    "sims = gensim.similarities.Similarity('../data/employe.txt',tf_idf[corpus],\n",
    "                                        num_features=len(dictionary))\n"
   ]
  },
  {
   "cell_type": "code",
   "execution_count": 327,
   "metadata": {},
   "outputs": [],
   "source": [
    "# perform a similarity query against the corpus\n",
    "query_doc_tf_idf = tf_idf[query_doc_bow]\n",
    "\n",
    "#print('Comparing Result:', sims[query_doc_tf_idf]) "
   ]
  },
  {
   "cell_type": "code",
   "execution_count": 328,
   "metadata": {},
   "outputs": [
    {
     "name": "stdout",
     "output_type": "stream",
     "text": [
      "The closest jobs to this employee are\n",
      "J2F53 with percentage  40.255945920944214 %\n",
      "005 with percentage  32.053640484809875 %\n",
      "025 with percentage  31.42598271369934 %\n"
     ]
    }
   ],
   "source": [
    "\n",
    "similarity=list(sims[query_doc_tf_idf])\n",
    "dist = sorted([(similarity[i], i) for i in range(len(similarity)) ],reverse=True)\n",
    "top_three=[dist[0],dist[1],dist[2]]\n",
    "\n",
    "print('The closest jobs to this employee are')\n",
    "print(code_emploi_dict[dist[0][1]],'with percentage ',100*dist[0][0],'%')\n",
    "print(code_emploi_dict[dist[1][1]],'with percentage ',100*dist[1][0],'%')\n",
    "print(code_emploi_dict[dist[2][1]],'with percentage ',100*dist[2][0],'%')"
   ]
  },
  {
   "cell_type": "code",
   "execution_count": 329,
   "metadata": {},
   "outputs": [
    {
     "data": {
      "image/png": "[encoded data removed]",
      "text/plain": [
       "<Figure size 432x288 with 1 Axes>"
      ]
     },
     "metadata": {},
     "output_type": "display_data"
    }
   ],
   "source": [
    "import matplotlib.pyplot as plt\n",
    "\n",
    "# Data to plot\n",
    "labels = [df_total['emploi'][code_emploi_dict[dist[0][1]]], \n",
    "          df_total['emploi'][code_emploi_dict[dist[1][1]]], df_total['emploi'][code_emploi_dict[dist[2][1]]] ]\n",
    "sizes = [dist[0][0], dist[1][0], dist[2][0]]\n",
    "colors = ['gold', 'yellowgreen', 'lightcoral']\n",
    "\n",
    "# Plot\n",
    "plt.pie(sizes,  labels=labels, colors=colors,\n",
    "autopct='%1.1f%%', shadow=True, startangle=140)\n",
    "\n",
    "plt.axis('equal')\n",
    "plt.show()"
   ]
  },
  {
   "cell_type": "code",
   "execution_count": 330,
   "metadata": {},
   "outputs": [
    {
     "data": {
      "text/plain": [
       "('BAP J « Gestion et Pilotage » / Affaires juridiques',\n",
       " 'Référens III',\n",
       " 'ADMINISTRATION GENERALE')"
      ]
     },
     "execution_count": 330,
     "metadata": {},
     "output_type": "execute_result"
    }
   ],
   "source": [
    "df_total['emploi'][code_emploi_dict[dist[0][1]]]"
   ]
  },
  {
   "cell_type": "code",
   "execution_count": 331,
   "metadata": {},
   "outputs": [
    {
     "data": {
      "text/plain": [
       "['tenir',\n",
       " 'compte',\n",
       " 'besoins',\n",
       " 'contraintes',\n",
       " 'savoir',\n",
       " 'rendre',\n",
       " 'compte',\n",
       " 'elaborer',\n",
       " 'fiches',\n",
       " 'procedures',\n",
       " 'encadrer',\n",
       " 'animer',\n",
       " 'equipe',\n",
       " 'exploiter',\n",
       " 'sources',\n",
       " 'donnees',\n",
       " 'utiliser',\n",
       " 'outils',\n",
       " 'bureautiques',\n",
       " 'capacite',\n",
       " 'ecoute',\n",
       " 'capacite',\n",
       " 'conviction',\n",
       " 'rigueur',\n",
       " 'fiabilite']"
      ]
     },
     "execution_count": 331,
     "metadata": {},
     "output_type": "execute_result"
    }
   ],
   "source": [
    "df_total['competences'][code_emploi_dict[dist[0][1]]]"
   ]
  },
  {
   "cell_type": "code",
   "execution_count": 332,
   "metadata": {},
   "outputs": [
    {
     "data": {
      "text/plain": [
       "('Management et aide à la décision',\n",
       " 'DGCCRF',\n",
       " 'ETUDES-AUDIT-EVALUATION-CONTROLE INTERNE ET PROSPECTIVE')"
      ]
     },
     "execution_count": 332,
     "metadata": {},
     "output_type": "execute_result"
    }
   ],
   "source": [
    "df_total['emploi'][code_emploi_dict[dist[1][1]]]"
   ]
  },
  {
   "cell_type": "code",
   "execution_count": 333,
   "metadata": {},
   "outputs": [
    {
     "data": {
      "text/plain": [
       "['analyser',\n",
       " 'comportement',\n",
       " 'contexte',\n",
       " 'problematique',\n",
       " 'communiquer',\n",
       " 'concevoir',\n",
       " 'projet',\n",
       " 'demarche',\n",
       " 'conseiller',\n",
       " 'diagnostiquer',\n",
       " 'autonomie',\n",
       " 'capacite',\n",
       " 'conviction',\n",
       " 'capacite',\n",
       " 'innovation',\n",
       " 'creativite',\n",
       " 'pedagogie',\n",
       " 'sens',\n",
       " 'relationnel']"
      ]
     },
     "execution_count": 333,
     "metadata": {},
     "output_type": "execute_result"
    }
   ],
   "source": [
    "df_total['competences'][code_emploi_dict[dist[1][1]]]"
   ]
  },
  {
   "cell_type": "code",
   "execution_count": null,
   "metadata": {},
   "outputs": [],
   "source": []
  },
  {
   "cell_type": "code",
   "execution_count": null,
   "metadata": {},
   "outputs": [],
   "source": []
  }
 ],
 "metadata": {
  "kernelspec": {
   "display_name": "Python 3",
   "language": "python",
   "name": "python3"
  },
  "language_info": {
   "codemirror_mode": {
    "name": "ipython",
    "version": 3
   },
   "file_extension": ".py",
   "mimetype": "text/x-python",
   "name": "python",
   "nbconvert_exporter": "python",
   "pygments_lexer": "ipython3",
   "version": "3.7.4"
  }
 },
 "nbformat": 4,
 "nbformat_minor": 2
}
